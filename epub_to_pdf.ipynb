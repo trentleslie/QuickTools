{
 "cells": [
  {
   "cell_type": "code",
   "execution_count": 1,
   "metadata": {},
   "outputs": [
    {
     "name": "stderr",
     "output_type": "stream",
     "text": [
      "/home/trent/miniconda3/envs/quicktools/lib/python3.10/site-packages/ebooklib/epub.py:1395: UserWarning: In the future version we will turn default option ignore_ncx to True.\n",
      "  warnings.warn('In the future version we will turn default option ignore_ncx to True.')\n",
      "/home/trent/miniconda3/envs/quicktools/lib/python3.10/site-packages/ebooklib/epub.py:1423: FutureWarning: This search incorrectly ignores the root element, and will be fixed in a future version.  If you rely on the current behaviour, change it to './/xmlns:rootfile[@media-type]'\n",
      "  for root_file in tree.findall('//xmlns:rootfile[@media-type]', namespaces={'xmlns': NAMESPACES['CONTAINERNS']}):\n"
     ]
    }
   ],
   "source": [
    "import ebooklib\n",
    "from ebooklib import epub\n",
    "from reportlab.pdfgen import canvas\n",
    "from reportlab.lib.pagesizes import letter\n",
    "from bs4 import BeautifulSoup\n",
    "import html2text\n",
    "\n",
    "def epub_to_pdf(epub_path, pdf_path):\n",
    "    # Read the EPUB file\n",
    "    book = epub.read_epub(epub_path)\n",
    "\n",
    "    # Create a PDF file\n",
    "    c = canvas.Canvas(pdf_path, pagesize=letter)\n",
    "    width, height = letter\n",
    "\n",
    "    y = height - 50  # Start from top of the page\n",
    "    for item in book.get_items():\n",
    "        if item.get_type() == ebooklib.ITEM_DOCUMENT:\n",
    "            # Parse HTML content\n",
    "            soup = BeautifulSoup(item.get_content(), 'html.parser')\n",
    "            text = html2text.html2text(str(soup))\n",
    "            \n",
    "            # Write text to PDF\n",
    "            for line in text.split('\\n'):\n",
    "                if y < 50:  # Start a new page if we're near the bottom\n",
    "                    c.showPage()\n",
    "                    y = height - 50\n",
    "                c.drawString(50, y, line)\n",
    "                y -= 15  # Move to next line\n",
    "    \n",
    "    c.save()\n",
    "\n",
    "# Usage\n",
    "epub_to_pdf('/home/trent/github/QuickTools/Causal_Inference_for_Data_Science_v10_MEAP.epub', \n",
    "            '/home/trent/github/QuickTools/Causal_Inference_for_Data_Science_v10_MEAP.pdf')"
   ]
  }
 ],
 "metadata": {
  "kernelspec": {
   "display_name": "quicktools",
   "language": "python",
   "name": "python3"
  },
  "language_info": {
   "codemirror_mode": {
    "name": "ipython",
    "version": 3
   },
   "file_extension": ".py",
   "mimetype": "text/x-python",
   "name": "python",
   "nbconvert_exporter": "python",
   "pygments_lexer": "ipython3",
   "version": "3.10.0"
  }
 },
 "nbformat": 4,
 "nbformat_minor": 2
}
